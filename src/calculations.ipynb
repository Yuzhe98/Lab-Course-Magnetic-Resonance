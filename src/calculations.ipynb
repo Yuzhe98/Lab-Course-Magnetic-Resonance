{
 "cells": [
  {
   "cell_type": "code",
   "execution_count": 1,
   "id": "ac7e8692",
   "metadata": {},
   "outputs": [],
   "source": [
    "from Envelope import *"
   ]
  },
  {
   "cell_type": "code",
   "execution_count": 3,
   "id": "37a56942",
   "metadata": {},
   "outputs": [
    {
     "name": "stdout",
     "output_type": "stream",
     "text": [
      "3.405661466158275e-06 dimensionless\n"
     ]
    }
   ],
   "source": [
    "# polarization at B = 1 T, T = 300 K\n",
    "B_pol = PhysicalQuantity(1, \"T\")\n",
    "T_sample = PhysicalQuantity(300, \"K\")\n",
    "pol = hbar * gamma_p * B_pol / (2 * kB * T_sample)\n",
    "print(pol.convert_to(\"\"))"
   ]
  },
  {
   "cell_type": "code",
   "execution_count": null,
   "id": "830e3af6",
   "metadata": {},
   "outputs": [
    {
     "name": "stdout",
     "output_type": "stream",
     "text": [
      "0.0020156820903635335 kelvin\n"
     ]
    }
   ],
   "source": [
    "# temperature corresponds to 42 MHz\n",
    "nu_0 = PhysicalQuantity(42, \"MHz\")\n",
    "Temp = h_Planck* nu_0 / kB\n",
    "print(Temp.convert_to('K'))"
   ]
  }
 ],
 "metadata": {
  "kernelspec": {
   "display_name": "CASPEr-venv-3.11",
   "language": "python",
   "name": "python3"
  },
  "language_info": {
   "codemirror_mode": {
    "name": "ipython",
    "version": 3
   },
   "file_extension": ".py",
   "mimetype": "text/x-python",
   "name": "python",
   "nbconvert_exporter": "python",
   "pygments_lexer": "ipython3",
   "version": "3.11.9"
  }
 },
 "nbformat": 4,
 "nbformat_minor": 5
}
